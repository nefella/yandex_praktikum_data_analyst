{
 "cells": [
  {
   "cell_type": "markdown",
   "metadata": {},
   "source": [
    "## Исследование надёжности заёмщиков\n",
    "\n",
    "Заказчик — кредитный отдел банка. Нужно разобраться, влияет ли семейное положение и количество детей клиента на факт погашения кредита в срок. Входные данные от банка — статистика о платёжеспособности клиентов.\n",
    "\n",
    "Результаты исследования будут учтены при построении модели **кредитного скоринга** — специальной системы, которая оценивает способность потенциального заёмщика вернуть кредит банку.\n",
    "\n",
    "**Описание данных:**\n",
    "- `children` — количество детей в семье\n",
    "- `days_employed` — общий трудовой стаж в днях\n",
    "- `dob_years` — возраст клиента в годах\n",
    "- `education` — уровень образования клиента\n",
    "- `education_id` — идентификатор уровня образования\n",
    "- `family_status` — семейное положение\n",
    "- `family_status_id` — идентификатор семейного положения\n",
    "- `gender` — пол клиента\n",
    "- `income_type` — тип занятости\n",
    "- `debt` — имел ли задолженность по возврату кредитов\n",
    "- `total_income` — ежемесячный доход\n",
    "- `purpose` — цель получения кредита"
   ]
  },
  {
   "cell_type": "markdown",
   "metadata": {},
   "source": [
    "### План работы<a id=\"plan\"></a>\n",
    "\n",
    "1. [Загрузка и обзор данных](#st1)\n",
    "1. [Предобработка данных](#st2)\n",
    "    - [Обработка пропусков](#st2_1)\n",
    "    - [Замена типа данных](#st2_2)\n",
    "    - [Обработка дубликатов](#st2_3)\n",
    "    - [Лемматизация](#st2_4)\n",
    "    - [Категоризация данных](#st2_5)\n",
    "1. [Ответы на вопросы](#st3)\n",
    "1. [Общий вывод](#st4)"
   ]
  },
  {
   "cell_type": "markdown",
   "metadata": {},
   "source": [
    "### [1. Загрузка и обзор данных](#plan)<a id=\"st1\"></a>  "
   ]
  },
  {
   "cell_type": "code",
   "execution_count": 52,
   "metadata": {
    "scrolled": true
   },
   "outputs": [],
   "source": [
    "import pandas as pd\n",
    "from collections import Counter\n",
    "import pymorphy2\n",
    "from pymystem3 import Mystem\n",
    "from tqdm import tqdm\n",
    "tqdm.pandas()\n",
    "from IPython.display import display\n",
    "import warnings\n",
    "warnings.filterwarnings('ignore')"
   ]
  },
  {
   "cell_type": "code",
   "execution_count": 53,
   "metadata": {},
   "outputs": [
    {
     "name": "stdout",
     "output_type": "stream",
     "text": [
      "<class 'pandas.core.frame.DataFrame'>\n",
      "RangeIndex: 21525 entries, 0 to 21524\n",
      "Data columns (total 12 columns):\n",
      " #   Column            Non-Null Count  Dtype  \n",
      "---  ------            --------------  -----  \n",
      " 0   children          21525 non-null  int64  \n",
      " 1   days_employed     19351 non-null  float64\n",
      " 2   dob_years         21525 non-null  int64  \n",
      " 3   education         21525 non-null  object \n",
      " 4   education_id      21525 non-null  int64  \n",
      " 5   family_status     21525 non-null  object \n",
      " 6   family_status_id  21525 non-null  int64  \n",
      " 7   gender            21525 non-null  object \n",
      " 8   income_type       21525 non-null  object \n",
      " 9   debt              21525 non-null  int64  \n",
      " 10  total_income      19351 non-null  float64\n",
      " 11  purpose           21525 non-null  object \n",
      "dtypes: float64(2), int64(5), object(5)\n",
      "memory usage: 2.0+ MB\n",
      "None\n"
     ]
    }
   ],
   "source": [
    "data = pd.read_csv('01_data.csv')\n",
    "print(data.info())\n",
    "#display(data.head(15))\n",
    "\n",
    "#print(data.isna().sum())\n",
    "\n",
    "# На глаз кажется, что пропуски в 'days_employed' совпадают с пропусками в 'total_income'. Проверим:\n",
    "#display(data[data['days_employed'].isna() & data['total_income'].isna()])\n",
    "\n",
    "# Убедимся, что данные в поле 'debt' корректны:\n",
    "#display(data[(data['debt'] > 1) | (data['debt'] < 0)]) # Ok\n",
    "\n",
    "# Проверим корректность значений в поле 'children'\n",
    "#display(data['children'].value_counts()) # 47 записей с отрицательным значением. И 76 записей с подозрительно большим значением (20 детей?)."
   ]
  },
  {
   "cell_type": "markdown",
   "metadata": {},
   "source": [
    "#### Вывод"
   ]
  },
  {
   "cell_type": "markdown",
   "metadata": {},
   "source": [
    "Выгрузка нуждается в предварительной обработке. \n",
    "\n",
    "1. В поле Количество детей `children` попадаются отрицательные значения - некорректные записи.\n",
    "1. Трудовой стаж в днях `days_employed`:\n",
    "   - Представлен в вещественных и порой отрицательных числах. Видимо, техническая ошибка. Если бы поле было критичным для решения поставленной задачи, нужно было бы обратиться к инженеру, готовившему выгрузку и обсудить с ним эту проблему.\n",
    "   - Есть пропущенные значения (2174 - 10% данных), причём, они идут в связке с пропущенными значениями в столбце Доход в месяц `total_income` . Возможно, клиенты просто не предоставили данную информацию, т.е. пропуски неслучайны.\n",
    "1. Образование `education` записано разнородно без учёта регистра. Можно вынести в словарь.\n",
    "1. Семейное положение `family_status` можно вынести в словарь.\n",
    "1. Поле `debt` имеет целочисленный тип, ходя по факту оно логическое.\n",
    "1. Цель получения кредита `purpose`, видимо, заполнялась клиентами произвольно - данные разнородны, много синонимов. Требуется лемматизация."
   ]
  },
  {
   "cell_type": "markdown",
   "metadata": {},
   "source": [
    "### [2. Предобработка данных](#plan)<a id=\"st2\"></a>  "
   ]
  },
  {
   "cell_type": "markdown",
   "metadata": {},
   "source": [
    "#### 2.1. Обработка пропусков<a id=\"st2_1\"></a>  "
   ]
  },
  {
   "cell_type": "code",
   "execution_count": 54,
   "metadata": {},
   "outputs": [
    {
     "name": "stdout",
     "output_type": "stream",
     "text": [
      "<class 'pandas.core.frame.DataFrame'>\n",
      "Int64Index: 21478 entries, 0 to 21524\n",
      "Data columns (total 11 columns):\n",
      " #   Column            Non-Null Count  Dtype  \n",
      "---  ------            --------------  -----  \n",
      " 0   children          21478 non-null  float64\n",
      " 1   dob_years         21478 non-null  int64  \n",
      " 2   education         21478 non-null  object \n",
      " 3   education_id      21478 non-null  int64  \n",
      " 4   family_status     21478 non-null  object \n",
      " 5   family_status_id  21478 non-null  int64  \n",
      " 6   gender            21478 non-null  object \n",
      " 7   income_type       21478 non-null  object \n",
      " 8   debt              21478 non-null  int64  \n",
      " 9   total_income      21478 non-null  float64\n",
      " 10  purpose           21478 non-null  object \n",
      "dtypes: float64(2), int64(4), object(5)\n",
      "memory usage: 2.0+ MB\n",
      "None\n"
     ]
    }
   ],
   "source": [
    "# Для начала удалим поле с Трудовым стажем\n",
    "data = data.drop('days_employed', axis=1)\n",
    "\n",
    "# вычислим среднее значение Дохода в месяц:\n",
    "mean_total_income = data['total_income'].mean()\n",
    "\n",
    "# Заполним пропуски в 'total_income' средним значением:\n",
    "data['total_income'] = data['total_income'].fillna(mean_total_income)\n",
    "# Убедимся, что пропусков больше нет: \n",
    "#print(data['total_income'].isna().value_counts())\n",
    "\n",
    "# Удалим записи, в которых указано отрицательное количество детей:\n",
    "import numpy as np\n",
    "data = data.replace(to_replace = -1, value = np.nan)\n",
    "data = data.dropna(subset=['children'])\n",
    "\n",
    "print(data.info())"
   ]
  },
  {
   "cell_type": "markdown",
   "metadata": {},
   "source": [
    "#### Вывод"
   ]
  },
  {
   "cell_type": "markdown",
   "metadata": {},
   "source": [
    "Данные о Трудовом стаже выгружены с ошибкой, к тому же они не нужны для решения поставленной задачи - удалили этот столбец. Остальные необязательые поля оставим для экспериментов.\n",
    "Пропуски в Информации о доходе заполнили средними значениями по столбцу.\n",
    "Удалили строки с некорректными данными о Количестве детей (благо, это всего 0.2% от всей выгрузки)."
   ]
  },
  {
   "cell_type": "markdown",
   "metadata": {},
   "source": [
    "#### 2.2. Замена типа данных<a id=\"st2_2\"></a>  "
   ]
  },
  {
   "cell_type": "code",
   "execution_count": 55,
   "metadata": {},
   "outputs": [
    {
     "name": "stdout",
     "output_type": "stream",
     "text": [
      "<class 'pandas.core.frame.DataFrame'>\n",
      "Int64Index: 21478 entries, 0 to 21524\n",
      "Data columns (total 11 columns):\n",
      " #   Column            Non-Null Count  Dtype  \n",
      "---  ------            --------------  -----  \n",
      " 0   children          21478 non-null  int64  \n",
      " 1   dob_years         21478 non-null  int64  \n",
      " 2   education         21478 non-null  object \n",
      " 3   education_id      21478 non-null  int64  \n",
      " 4   family_status     21478 non-null  object \n",
      " 5   family_status_id  21478 non-null  int64  \n",
      " 6   gender            21478 non-null  object \n",
      " 7   income_type       21478 non-null  object \n",
      " 8   debt              21478 non-null  bool   \n",
      " 9   total_income      21478 non-null  float64\n",
      " 10  purpose           21478 non-null  object \n",
      "dtypes: bool(1), float64(1), int64(4), object(5)\n",
      "memory usage: 1.8+ MB\n",
      "None\n"
     ]
    }
   ],
   "source": [
    "# Приведём поле 'debt' к логическому типу данных:\n",
    "try:\n",
    "    data['debt'] = data['debt'].astype('bool')\n",
    "except:\n",
    "    print('Проверьте корректность данных в столбце \"debt\"')\n",
    "\n",
    "\n",
    "# Вернём полю 'children' тип int:\n",
    "try:\n",
    "    data['children'] = data['children'].astype('int64')\n",
    "except:\n",
    "    print('Проверьте корректность данных в столбце \"children\"')\n",
    "    \n",
    "# Проверим:\n",
    "print(data.info())"
   ]
  },
  {
   "cell_type": "markdown",
   "metadata": {},
   "source": [
    "#### Вывод"
   ]
  },
  {
   "cell_type": "markdown",
   "metadata": {},
   "source": [
    "Поле 'debt' с информацией о задолженности клиента может содержать только два значения: да или нет. Соответственно, оно должно быть логическим, а не целочисленным. Для экономии памяти и исключения некорректных значений привели его к типу boolean.\n",
    "После удаления строк с отрицательным количеством детей тип поля 'children' изменился на float - исправили обратно на int."
   ]
  },
  {
   "cell_type": "markdown",
   "metadata": {},
   "source": [
    "#### 2.3. Обработка дубликатов<a id=\"st2_3\"></a>  "
   ]
  },
  {
   "cell_type": "code",
   "execution_count": 56,
   "metadata": {},
   "outputs": [
    {
     "name": "stdout",
     "output_type": "stream",
     "text": [
      "Полных дублей в выгрузке: 0\n"
     ]
    }
   ],
   "source": [
    "# Приведём данные в поле 'education' к нижнему регистру и поищем дубли:\n",
    "data['education'] = data['education'].str.lower()\n",
    "#print(data.duplicated().sum()) # 71\n",
    "\n",
    "# Удалим полные дубли из таблицы:\n",
    "data = data.drop_duplicates().reset_index(drop=True)\n",
    "print('Полных дублей в выгрузке:', data.duplicated().sum())"
   ]
  },
  {
   "cell_type": "markdown",
   "metadata": {},
   "source": [
    "#### Вывод"
   ]
  },
  {
   "cell_type": "markdown",
   "metadata": {},
   "source": [
    "Удалили полные дубли из выгрузки (71 запись)."
   ]
  },
  {
   "cell_type": "markdown",
   "metadata": {},
   "source": [
    "#### 2.4. Лемматизация<a id=\"st2_4\"></a>  "
   ]
  },
  {
   "cell_type": "markdown",
   "metadata": {},
   "source": [
    "*Вариант с pymorphy2 (около 30 сек)*"
   ]
  },
  {
   "cell_type": "code",
   "execution_count": 57,
   "metadata": {},
   "outputs": [
    {
     "name": "stderr",
     "output_type": "stream",
     "text": [
      "100%|███████████████████████████████████████████████████████████████████████████| 21407/21407 [00:25<00:00, 824.90it/s]\n"
     ]
    }
   ],
   "source": [
    "morph = pymorphy2.MorphAnalyzer()\n",
    "\n",
    "def lemmatize_purpose(row):\n",
    "# Функция принимает на вход строку нашей таблицы, и возвращает лемматизированное значение столбца 'purpose' \n",
    "    text_lst = [s.strip() for s in row['purpose'].split(' ')]\n",
    "    text = []\n",
    "\n",
    "    for word in text_lst:\n",
    "        p = morph.parse(word)\n",
    "        text.append(p[0].normal_form)\n",
    "\n",
    "    lemm_text = ' '.join(text)\n",
    "    return lemm_text\n",
    "\n",
    "\"\"\"\n",
    "# Тестируем функцию:\n",
    "test_data = data[['education', 'purpose']].head(10)\n",
    "display(test_data)\n",
    "\n",
    "test_data['purpose_lemm'] = test_data.apply(lemmatize_purpose, axis=1)\n",
    "display(test_data)\n",
    "\"\"\"\n",
    "\n",
    "# Создаём новый столбец с лемматизированной Целью получения крудита ('purpose'):\n",
    "data['purpose_lemm'] = data.progress_apply(lemmatize_purpose, axis=1)"
   ]
  },
  {
   "cell_type": "markdown",
   "metadata": {},
   "source": [
    "*Вариант с pymystem3. Оказался намного дольше (>8 часов /Windows 10)*"
   ]
  },
  {
   "cell_type": "code",
   "execution_count": 58,
   "metadata": {},
   "outputs": [],
   "source": [
    "# m = Mystem()\n",
    "\n",
    "# def lemmatize_purpose(row):\n",
    "# # Функция принимает на вход строку нашей таблицы, и возвращает лемматизированное значение столбца 'purpose' \n",
    "#     lemm_text = ' '.join(m.lemmatize(row['purpose'])) #склеиваем массив лемм, чтобы получить строку\n",
    "#     return lemm_text\n",
    "\n",
    "# \"\"\"\n",
    "# # Тестируем функцию:\n",
    "# test_data = data[['education', 'purpose']].head(10)\n",
    "# display(test_data)\n",
    "# print()\n",
    "# test_data['purpose_lemm'] = test_data.apply(lemmatize_purpose, axis=1)\n",
    "# display(test_data)\n",
    "# \"\"\"\n",
    "\n",
    "# # Создаём новый столбец с лемматизированной Целью получения крудита ('purpose'):\n",
    "# data['purpose_lemm'] = data.progress_apply(lemmatize_purpose, axis=1)"
   ]
  },
  {
   "cell_type": "code",
   "execution_count": 59,
   "metadata": {},
   "outputs": [
    {
     "data": {
      "text/html": [
       "<div>\n",
       "<style scoped>\n",
       "    .dataframe tbody tr th:only-of-type {\n",
       "        vertical-align: middle;\n",
       "    }\n",
       "\n",
       "    .dataframe tbody tr th {\n",
       "        vertical-align: top;\n",
       "    }\n",
       "\n",
       "    .dataframe thead th {\n",
       "        text-align: right;\n",
       "    }\n",
       "</style>\n",
       "<table border=\"1\" class=\"dataframe\">\n",
       "  <thead>\n",
       "    <tr style=\"text-align: right;\">\n",
       "      <th></th>\n",
       "      <th>children</th>\n",
       "      <th>dob_years</th>\n",
       "      <th>education</th>\n",
       "      <th>education_id</th>\n",
       "      <th>family_status</th>\n",
       "      <th>family_status_id</th>\n",
       "      <th>gender</th>\n",
       "      <th>income_type</th>\n",
       "      <th>debt</th>\n",
       "      <th>total_income</th>\n",
       "      <th>purpose</th>\n",
       "      <th>purpose_lemm</th>\n",
       "    </tr>\n",
       "  </thead>\n",
       "  <tbody>\n",
       "    <tr>\n",
       "      <th>0</th>\n",
       "      <td>1</td>\n",
       "      <td>42</td>\n",
       "      <td>высшее</td>\n",
       "      <td>0</td>\n",
       "      <td>женат / замужем</td>\n",
       "      <td>0</td>\n",
       "      <td>F</td>\n",
       "      <td>сотрудник</td>\n",
       "      <td>False</td>\n",
       "      <td>253875.639453</td>\n",
       "      <td>покупка жилья</td>\n",
       "      <td>покупка жильё</td>\n",
       "    </tr>\n",
       "    <tr>\n",
       "      <th>1</th>\n",
       "      <td>1</td>\n",
       "      <td>36</td>\n",
       "      <td>среднее</td>\n",
       "      <td>1</td>\n",
       "      <td>женат / замужем</td>\n",
       "      <td>0</td>\n",
       "      <td>F</td>\n",
       "      <td>сотрудник</td>\n",
       "      <td>False</td>\n",
       "      <td>112080.014102</td>\n",
       "      <td>приобретение автомобиля</td>\n",
       "      <td>приобретение автомобиль</td>\n",
       "    </tr>\n",
       "    <tr>\n",
       "      <th>2</th>\n",
       "      <td>0</td>\n",
       "      <td>33</td>\n",
       "      <td>среднее</td>\n",
       "      <td>1</td>\n",
       "      <td>женат / замужем</td>\n",
       "      <td>0</td>\n",
       "      <td>M</td>\n",
       "      <td>сотрудник</td>\n",
       "      <td>False</td>\n",
       "      <td>145885.952297</td>\n",
       "      <td>покупка жилья</td>\n",
       "      <td>покупка жильё</td>\n",
       "    </tr>\n",
       "    <tr>\n",
       "      <th>3</th>\n",
       "      <td>3</td>\n",
       "      <td>32</td>\n",
       "      <td>среднее</td>\n",
       "      <td>1</td>\n",
       "      <td>женат / замужем</td>\n",
       "      <td>0</td>\n",
       "      <td>M</td>\n",
       "      <td>сотрудник</td>\n",
       "      <td>False</td>\n",
       "      <td>267628.550329</td>\n",
       "      <td>дополнительное образование</td>\n",
       "      <td>дополнительный образование</td>\n",
       "    </tr>\n",
       "    <tr>\n",
       "      <th>4</th>\n",
       "      <td>0</td>\n",
       "      <td>53</td>\n",
       "      <td>среднее</td>\n",
       "      <td>1</td>\n",
       "      <td>гражданский брак</td>\n",
       "      <td>1</td>\n",
       "      <td>F</td>\n",
       "      <td>пенсионер</td>\n",
       "      <td>False</td>\n",
       "      <td>158616.077870</td>\n",
       "      <td>сыграть свадьбу</td>\n",
       "      <td>сыграть свадьба</td>\n",
       "    </tr>\n",
       "    <tr>\n",
       "      <th>5</th>\n",
       "      <td>0</td>\n",
       "      <td>27</td>\n",
       "      <td>высшее</td>\n",
       "      <td>0</td>\n",
       "      <td>гражданский брак</td>\n",
       "      <td>1</td>\n",
       "      <td>M</td>\n",
       "      <td>компаньон</td>\n",
       "      <td>False</td>\n",
       "      <td>255763.565419</td>\n",
       "      <td>покупка жилья</td>\n",
       "      <td>покупка жильё</td>\n",
       "    </tr>\n",
       "    <tr>\n",
       "      <th>6</th>\n",
       "      <td>0</td>\n",
       "      <td>43</td>\n",
       "      <td>высшее</td>\n",
       "      <td>0</td>\n",
       "      <td>женат / замужем</td>\n",
       "      <td>0</td>\n",
       "      <td>F</td>\n",
       "      <td>компаньон</td>\n",
       "      <td>False</td>\n",
       "      <td>240525.971920</td>\n",
       "      <td>операции с жильем</td>\n",
       "      <td>операция с жильё</td>\n",
       "    </tr>\n",
       "    <tr>\n",
       "      <th>7</th>\n",
       "      <td>0</td>\n",
       "      <td>50</td>\n",
       "      <td>среднее</td>\n",
       "      <td>1</td>\n",
       "      <td>женат / замужем</td>\n",
       "      <td>0</td>\n",
       "      <td>M</td>\n",
       "      <td>сотрудник</td>\n",
       "      <td>False</td>\n",
       "      <td>135823.934197</td>\n",
       "      <td>образование</td>\n",
       "      <td>образование</td>\n",
       "    </tr>\n",
       "    <tr>\n",
       "      <th>8</th>\n",
       "      <td>2</td>\n",
       "      <td>35</td>\n",
       "      <td>высшее</td>\n",
       "      <td>0</td>\n",
       "      <td>гражданский брак</td>\n",
       "      <td>1</td>\n",
       "      <td>F</td>\n",
       "      <td>сотрудник</td>\n",
       "      <td>False</td>\n",
       "      <td>95856.832424</td>\n",
       "      <td>на проведение свадьбы</td>\n",
       "      <td>на проведение свадьба</td>\n",
       "    </tr>\n",
       "    <tr>\n",
       "      <th>9</th>\n",
       "      <td>0</td>\n",
       "      <td>41</td>\n",
       "      <td>среднее</td>\n",
       "      <td>1</td>\n",
       "      <td>женат / замужем</td>\n",
       "      <td>0</td>\n",
       "      <td>M</td>\n",
       "      <td>сотрудник</td>\n",
       "      <td>False</td>\n",
       "      <td>144425.938277</td>\n",
       "      <td>покупка жилья для семьи</td>\n",
       "      <td>покупка жильё для семья</td>\n",
       "    </tr>\n",
       "  </tbody>\n",
       "</table>\n",
       "</div>"
      ],
      "text/plain": [
       "   children  dob_years education  education_id     family_status  \\\n",
       "0         1         42    высшее             0   женат / замужем   \n",
       "1         1         36   среднее             1   женат / замужем   \n",
       "2         0         33   среднее             1   женат / замужем   \n",
       "3         3         32   среднее             1   женат / замужем   \n",
       "4         0         53   среднее             1  гражданский брак   \n",
       "5         0         27    высшее             0  гражданский брак   \n",
       "6         0         43    высшее             0   женат / замужем   \n",
       "7         0         50   среднее             1   женат / замужем   \n",
       "8         2         35    высшее             0  гражданский брак   \n",
       "9         0         41   среднее             1   женат / замужем   \n",
       "\n",
       "   family_status_id gender income_type   debt   total_income  \\\n",
       "0                 0      F   сотрудник  False  253875.639453   \n",
       "1                 0      F   сотрудник  False  112080.014102   \n",
       "2                 0      M   сотрудник  False  145885.952297   \n",
       "3                 0      M   сотрудник  False  267628.550329   \n",
       "4                 1      F   пенсионер  False  158616.077870   \n",
       "5                 1      M   компаньон  False  255763.565419   \n",
       "6                 0      F   компаньон  False  240525.971920   \n",
       "7                 0      M   сотрудник  False  135823.934197   \n",
       "8                 1      F   сотрудник  False   95856.832424   \n",
       "9                 0      M   сотрудник  False  144425.938277   \n",
       "\n",
       "                      purpose                purpose_lemm  \n",
       "0               покупка жилья               покупка жильё  \n",
       "1     приобретение автомобиля     приобретение автомобиль  \n",
       "2               покупка жилья               покупка жильё  \n",
       "3  дополнительное образование  дополнительный образование  \n",
       "4             сыграть свадьбу             сыграть свадьба  \n",
       "5               покупка жилья               покупка жильё  \n",
       "6           операции с жильем            операция с жильё  \n",
       "7                 образование                 образование  \n",
       "8       на проведение свадьбы       на проведение свадьба  \n",
       "9     покупка жилья для семьи     покупка жильё для семья  "
      ]
     },
     "metadata": {},
     "output_type": "display_data"
    },
    {
     "data": {
      "text/plain": [
       "Counter({'покупка жильё': 643,\n",
       "         'приобретение автомобиль': 459,\n",
       "         'дополнительный образование': 458,\n",
       "         'сыграть свадьба': 764,\n",
       "         'операция с жильё': 651,\n",
       "         'образование': 444,\n",
       "         'на проведение свадьба': 767,\n",
       "         'покупка жильё для семья': 638,\n",
       "         'покупка недвижимость': 618,\n",
       "         'покупка коммерческий недвижимость': 661,\n",
       "         'покупка жилой недвижимость': 604,\n",
       "         'строительство собственный недвижимость': 634,\n",
       "         'недвижимость': 632,\n",
       "         'строительство недвижимость': 619,\n",
       "         'на покупка подержать автомобиль': 477,\n",
       "         'на покупка свой автомобиль': 504,\n",
       "         'операция с коммерческий недвижимость': 649,\n",
       "         'строительство жилой недвижимость': 621,\n",
       "         'жильё': 645,\n",
       "         'операция с свой недвижимость': 624,\n",
       "         'автомобиль': 969,\n",
       "         'заняться образование': 408,\n",
       "         'сделка с подержать автомобиль': 485,\n",
       "         'получение образование': 441,\n",
       "         'свадьба': 791,\n",
       "         'получение дополнительный образование': 445,\n",
       "         'покупка свой жильё': 619,\n",
       "         'операция с недвижимость': 673,\n",
       "         'получение высокий образование': 426,\n",
       "         'свой автомобиль': 476,\n",
       "         'сделка с автомобиль': 455,\n",
       "         'профильный образование': 434,\n",
       "         'высокий образование': 451,\n",
       "         'покупка жильё для сдача': 650,\n",
       "         'на покупка автомобиль': 470,\n",
       "         'ремонт жильё': 606,\n",
       "         'заняться высокий образование': 496})"
      ]
     },
     "metadata": {},
     "output_type": "display_data"
    }
   ],
   "source": [
    "display(data.head(10))\n",
    "\n",
    "# Посчитаем частоту значений в общем списке лемм:\n",
    "display(Counter(data['purpose_lemm']))"
   ]
  },
  {
   "cell_type": "markdown",
   "metadata": {},
   "source": [
    "#### Вывод"
   ]
  },
  {
   "cell_type": "markdown",
   "metadata": {},
   "source": [
    "Оказывается, Целей кредита не так уж и много, особенно, если присмотреться повнимательнее:\n",
    "- недвижимость (жильё)\n",
    "- ремонт\n",
    "- свадьба\n",
    "- образование\n",
    "- автомобиль"
   ]
  },
  {
   "cell_type": "markdown",
   "metadata": {},
   "source": [
    "#### 2.5. Категоризация данных<a id=\"st2_5\"></a>  "
   ]
  },
  {
   "cell_type": "code",
   "execution_count": 60,
   "metadata": {},
   "outputs": [
    {
     "data": {
      "text/html": [
       "<div>\n",
       "<style scoped>\n",
       "    .dataframe tbody tr th:only-of-type {\n",
       "        vertical-align: middle;\n",
       "    }\n",
       "\n",
       "    .dataframe tbody tr th {\n",
       "        vertical-align: top;\n",
       "    }\n",
       "\n",
       "    .dataframe thead th {\n",
       "        text-align: right;\n",
       "    }\n",
       "</style>\n",
       "<table border=\"1\" class=\"dataframe\">\n",
       "  <thead>\n",
       "    <tr style=\"text-align: right;\">\n",
       "      <th></th>\n",
       "      <th>children</th>\n",
       "      <th>education_id</th>\n",
       "      <th>family_status_id</th>\n",
       "      <th>debt</th>\n",
       "      <th>total_income</th>\n",
       "      <th>purpose_id</th>\n",
       "    </tr>\n",
       "  </thead>\n",
       "  <tbody>\n",
       "    <tr>\n",
       "      <th>0</th>\n",
       "      <td>1</td>\n",
       "      <td>0</td>\n",
       "      <td>0</td>\n",
       "      <td>False</td>\n",
       "      <td>253875.639453</td>\n",
       "      <td>0</td>\n",
       "    </tr>\n",
       "    <tr>\n",
       "      <th>1</th>\n",
       "      <td>1</td>\n",
       "      <td>1</td>\n",
       "      <td>0</td>\n",
       "      <td>False</td>\n",
       "      <td>112080.014102</td>\n",
       "      <td>4</td>\n",
       "    </tr>\n",
       "    <tr>\n",
       "      <th>2</th>\n",
       "      <td>0</td>\n",
       "      <td>1</td>\n",
       "      <td>0</td>\n",
       "      <td>False</td>\n",
       "      <td>145885.952297</td>\n",
       "      <td>0</td>\n",
       "    </tr>\n",
       "    <tr>\n",
       "      <th>3</th>\n",
       "      <td>3</td>\n",
       "      <td>1</td>\n",
       "      <td>0</td>\n",
       "      <td>False</td>\n",
       "      <td>267628.550329</td>\n",
       "      <td>3</td>\n",
       "    </tr>\n",
       "    <tr>\n",
       "      <th>4</th>\n",
       "      <td>0</td>\n",
       "      <td>1</td>\n",
       "      <td>1</td>\n",
       "      <td>False</td>\n",
       "      <td>158616.077870</td>\n",
       "      <td>2</td>\n",
       "    </tr>\n",
       "  </tbody>\n",
       "</table>\n",
       "</div>"
      ],
      "text/plain": [
       "   children  education_id  family_status_id   debt   total_income  purpose_id\n",
       "0         1             0                 0  False  253875.639453           0\n",
       "1         1             1                 0  False  112080.014102           4\n",
       "2         0             1                 0  False  145885.952297           0\n",
       "3         3             1                 0  False  267628.550329           3\n",
       "4         0             1                 1  False  158616.077870           2"
      ]
     },
     "metadata": {},
     "output_type": "display_data"
    },
    {
     "name": "stdout",
     "output_type": "stream",
     "text": [
      "Словарь типов образования:\n"
     ]
    },
    {
     "data": {
      "text/html": [
       "<div>\n",
       "<style scoped>\n",
       "    .dataframe tbody tr th:only-of-type {\n",
       "        vertical-align: middle;\n",
       "    }\n",
       "\n",
       "    .dataframe tbody tr th {\n",
       "        vertical-align: top;\n",
       "    }\n",
       "\n",
       "    .dataframe thead th {\n",
       "        text-align: right;\n",
       "    }\n",
       "</style>\n",
       "<table border=\"1\" class=\"dataframe\">\n",
       "  <thead>\n",
       "    <tr style=\"text-align: right;\">\n",
       "      <th></th>\n",
       "      <th>education_id</th>\n",
       "      <th>education</th>\n",
       "    </tr>\n",
       "  </thead>\n",
       "  <tbody>\n",
       "    <tr>\n",
       "      <th>0</th>\n",
       "      <td>0</td>\n",
       "      <td>высшее</td>\n",
       "    </tr>\n",
       "    <tr>\n",
       "      <th>1</th>\n",
       "      <td>1</td>\n",
       "      <td>среднее</td>\n",
       "    </tr>\n",
       "    <tr>\n",
       "      <th>2</th>\n",
       "      <td>2</td>\n",
       "      <td>неоконченное высшее</td>\n",
       "    </tr>\n",
       "    <tr>\n",
       "      <th>3</th>\n",
       "      <td>3</td>\n",
       "      <td>начальное</td>\n",
       "    </tr>\n",
       "    <tr>\n",
       "      <th>4</th>\n",
       "      <td>4</td>\n",
       "      <td>ученая степень</td>\n",
       "    </tr>\n",
       "  </tbody>\n",
       "</table>\n",
       "</div>"
      ],
      "text/plain": [
       "   education_id            education\n",
       "0             0               высшее\n",
       "1             1              среднее\n",
       "2             2  неоконченное высшее\n",
       "3             3            начальное\n",
       "4             4       ученая степень"
      ]
     },
     "metadata": {},
     "output_type": "display_data"
    },
    {
     "name": "stdout",
     "output_type": "stream",
     "text": [
      "Словарь типов Семейного положения:\n"
     ]
    },
    {
     "data": {
      "text/html": [
       "<div>\n",
       "<style scoped>\n",
       "    .dataframe tbody tr th:only-of-type {\n",
       "        vertical-align: middle;\n",
       "    }\n",
       "\n",
       "    .dataframe tbody tr th {\n",
       "        vertical-align: top;\n",
       "    }\n",
       "\n",
       "    .dataframe thead th {\n",
       "        text-align: right;\n",
       "    }\n",
       "</style>\n",
       "<table border=\"1\" class=\"dataframe\">\n",
       "  <thead>\n",
       "    <tr style=\"text-align: right;\">\n",
       "      <th></th>\n",
       "      <th>family_status_id</th>\n",
       "      <th>family_status</th>\n",
       "    </tr>\n",
       "  </thead>\n",
       "  <tbody>\n",
       "    <tr>\n",
       "      <th>0</th>\n",
       "      <td>0</td>\n",
       "      <td>женат / замужем</td>\n",
       "    </tr>\n",
       "    <tr>\n",
       "      <th>1</th>\n",
       "      <td>1</td>\n",
       "      <td>гражданский брак</td>\n",
       "    </tr>\n",
       "    <tr>\n",
       "      <th>2</th>\n",
       "      <td>2</td>\n",
       "      <td>вдовец / вдова</td>\n",
       "    </tr>\n",
       "    <tr>\n",
       "      <th>3</th>\n",
       "      <td>3</td>\n",
       "      <td>в разводе</td>\n",
       "    </tr>\n",
       "    <tr>\n",
       "      <th>4</th>\n",
       "      <td>4</td>\n",
       "      <td>Не женат / не замужем</td>\n",
       "    </tr>\n",
       "  </tbody>\n",
       "</table>\n",
       "</div>"
      ],
      "text/plain": [
       "   family_status_id          family_status\n",
       "0                 0        женат / замужем\n",
       "1                 1       гражданский брак\n",
       "2                 2         вдовец / вдова\n",
       "3                 3              в разводе\n",
       "4                 4  Не женат / не замужем"
      ]
     },
     "metadata": {},
     "output_type": "display_data"
    },
    {
     "name": "stdout",
     "output_type": "stream",
     "text": [
      "Справочник Целей кредита:\n"
     ]
    },
    {
     "data": {
      "text/plain": [
       "0    недвижимость\n",
       "1          ремонт\n",
       "2         свадьба\n",
       "3     образование\n",
       "4      автомобиль\n",
       "dtype: object"
      ]
     },
     "metadata": {},
     "output_type": "display_data"
    }
   ],
   "source": [
    "# Создадим справочник Целей кредита:\n",
    "purpose = {0: 'недвижимость',\n",
    "           1: 'ремонт',\n",
    "           2: 'свадьба',\n",
    "           3: 'образование',\n",
    "           4: 'автомобиль'}\n",
    "purpose_dict = pd.Series(purpose)\n",
    "\n",
    "# Добавим в исходную выгрузку поле с индентификатором Цели кредита\n",
    "\n",
    "def purpose_id(row):\n",
    "# Функция принимает на вход строку таблицы и возвращает идентификатор Цели кредита\n",
    "    if 'ремонт' in row['purpose_lemm']: return 1\n",
    "    if ('недвижимость' in row['purpose_lemm']) | ('жилье' in row['purpose_lemm']) | ('жильё' in row['purpose_lemm']): return 0\n",
    "    if 'свадьба' in row['purpose_lemm']: return 2\n",
    "    if 'образование' in row['purpose_lemm']: return 3\n",
    "    if 'автомобиль' in row['purpose_lemm']: return 4\n",
    "    return print('Идентификатор Цели кредита не найден: проверьте словарь')\n",
    "\n",
    "\n",
    "# Тестируем работу функции:\n",
    "\"\"\"\n",
    "test_data = data[['education', 'purpose_lemm']].head(10)\n",
    "display(test_data)\n",
    "test_data['purpose_id'] = test_data.apply(purpose_id, axis=1)\n",
    "display(test_data)\n",
    "\"\"\"\n",
    "\n",
    "# Создаём новый столбец с идентификатором Цели получения крудита ('purpose_id'):\n",
    "data['purpose_id'] = data.apply(purpose_id, axis=1)\n",
    "\n",
    "#*********************** Разделим нашу выгрузку на несколько таблиц ***********************\n",
    "\n",
    "# Основная таблица:\n",
    "data_log = data[['children', 'education_id', 'family_status_id', 'debt', 'total_income', 'purpose_id']]\n",
    "display(data_log.head(5))\n",
    "\n",
    "# Словарь типов Образования:\n",
    "education_dict = data[['education_id', 'education']]\n",
    "education_dict = education_dict.drop_duplicates().reset_index(drop=True)\n",
    "print('Словарь типов образования:')\n",
    "display(education_dict)\n",
    "\n",
    "# Словарь типов Семейного положения:\n",
    "family_status_dict = data[['family_status_id', 'family_status']]\n",
    "family_status_dict = family_status_dict.drop_duplicates().reset_index(drop=True)\n",
    "print('Словарь типов Семейного положения:')\n",
    "display(family_status_dict)\n",
    "\n",
    "# Справочник Целей кредита:\n",
    "print('Справочник Целей кредита:')\n",
    "display(purpose_dict)"
   ]
  },
  {
   "cell_type": "markdown",
   "metadata": {},
   "source": [
    "#### Вывод"
   ]
  },
  {
   "cell_type": "markdown",
   "metadata": {},
   "source": [
    "Для удобства работы с выгрузкой оставим в ней только необходимые для решения задачи поля. Вынесем в отдельные словари Образование, Семейный статус и Цель получения кредита."
   ]
  },
  {
   "cell_type": "markdown",
   "metadata": {},
   "source": [
    "### [3. Ответы на вопросы](#plan)<a id=\"st3\"></a>  "
   ]
  },
  {
   "cell_type": "markdown",
   "metadata": {},
   "source": [
    "- Есть ли зависимость между наличием детей и возвратом кредита в срок?"
   ]
  },
  {
   "cell_type": "code",
   "execution_count": 66,
   "metadata": {},
   "outputs": [
    {
     "name": "stdout",
     "output_type": "stream",
     "text": [
      "Количество детей // Всего клиентов / Клиентов с задолженностью / Доля клиентов с задолженностью, %:\n"
     ]
    },
    {
     "data": {
      "text/html": [
       "<div>\n",
       "<style scoped>\n",
       "    .dataframe tbody tr th:only-of-type {\n",
       "        vertical-align: middle;\n",
       "    }\n",
       "\n",
       "    .dataframe tbody tr th {\n",
       "        vertical-align: top;\n",
       "    }\n",
       "\n",
       "    .dataframe thead th {\n",
       "        text-align: right;\n",
       "    }\n",
       "</style>\n",
       "<table border=\"1\" class=\"dataframe\">\n",
       "  <thead>\n",
       "    <tr style=\"text-align: right;\">\n",
       "      <th></th>\n",
       "      <th>count</th>\n",
       "      <th>debt_count</th>\n",
       "      <th>debt_part</th>\n",
       "    </tr>\n",
       "    <tr>\n",
       "      <th>children</th>\n",
       "      <th></th>\n",
       "      <th></th>\n",
       "      <th></th>\n",
       "    </tr>\n",
       "  </thead>\n",
       "  <tbody>\n",
       "    <tr>\n",
       "      <th>20</th>\n",
       "      <td>76</td>\n",
       "      <td>8.0</td>\n",
       "      <td>10.526316</td>\n",
       "    </tr>\n",
       "    <tr>\n",
       "      <th>4</th>\n",
       "      <td>41</td>\n",
       "      <td>4.0</td>\n",
       "      <td>9.756098</td>\n",
       "    </tr>\n",
       "    <tr>\n",
       "      <th>2</th>\n",
       "      <td>2052</td>\n",
       "      <td>194.0</td>\n",
       "      <td>9.454191</td>\n",
       "    </tr>\n",
       "    <tr>\n",
       "      <th>1</th>\n",
       "      <td>4808</td>\n",
       "      <td>444.0</td>\n",
       "      <td>9.234609</td>\n",
       "    </tr>\n",
       "    <tr>\n",
       "      <th>3</th>\n",
       "      <td>330</td>\n",
       "      <td>27.0</td>\n",
       "      <td>8.181818</td>\n",
       "    </tr>\n",
       "    <tr>\n",
       "      <th>0</th>\n",
       "      <td>14091</td>\n",
       "      <td>1063.0</td>\n",
       "      <td>7.543822</td>\n",
       "    </tr>\n",
       "    <tr>\n",
       "      <th>5</th>\n",
       "      <td>9</td>\n",
       "      <td>0.0</td>\n",
       "      <td>0.000000</td>\n",
       "    </tr>\n",
       "  </tbody>\n",
       "</table>\n",
       "</div>"
      ],
      "text/plain": [
       "          count  debt_count  debt_part\n",
       "children                              \n",
       "20           76         8.0  10.526316\n",
       "4            41         4.0   9.756098\n",
       "2          2052       194.0   9.454191\n",
       "1          4808       444.0   9.234609\n",
       "3           330        27.0   8.181818\n",
       "0         14091      1063.0   7.543822\n",
       "5             9         0.0   0.000000"
      ]
     },
     "metadata": {},
     "output_type": "display_data"
    }
   ],
   "source": [
    "print('Количество детей // Всего клиентов / Клиентов с задолженностью / Доля клиентов с задолженностью, %:')\n",
    "data_log_gr_by_children = data_log.groupby('children').agg(count = ('debt','count'), \n",
    "                                                           debt_count = ('debt', 'sum'))\n",
    "data_log_gr_by_children['debt_part'] = (data_log_gr_by_children['debt_count'] / data_log_gr_by_children['count']) * 100\n",
    "display(data_log_gr_by_children.sort_values(by='debt_part', ascending=False))"
   ]
  },
  {
   "cell_type": "markdown",
   "metadata": {},
   "source": [
    "Как видно из таблицы, наличие детей само по себе увеличивает риск задолженности по кредиту. \n",
    "Выделяются клиенты с пятью детьми - среди них нет должников, но количество таких клиентов слишком мало (9 человек или 0.04% выборки), чтобы делать какие-то выводы."
   ]
  },
  {
   "cell_type": "markdown",
   "metadata": {},
   "source": [
    "- Есть ли зависимость между семейным положением и возвратом кредита в срок?"
   ]
  },
  {
   "cell_type": "code",
   "execution_count": 73,
   "metadata": {},
   "outputs": [
    {
     "name": "stdout",
     "output_type": "stream",
     "text": [
      "Семейный статус // Всего клиентов / Клиентов с задолженностью / Доля клиентов с задолженностью, %:\n"
     ]
    },
    {
     "data": {
      "text/html": [
       "<div>\n",
       "<style scoped>\n",
       "    .dataframe tbody tr th:only-of-type {\n",
       "        vertical-align: middle;\n",
       "    }\n",
       "\n",
       "    .dataframe tbody tr th {\n",
       "        vertical-align: top;\n",
       "    }\n",
       "\n",
       "    .dataframe thead tr th {\n",
       "        text-align: left;\n",
       "    }\n",
       "</style>\n",
       "<table border=\"1\" class=\"dataframe\">\n",
       "  <thead>\n",
       "    <tr>\n",
       "      <th></th>\n",
       "      <th>family_status_id</th>\n",
       "      <th colspan=\"2\" halign=\"left\">debt</th>\n",
       "      <th>debt_part</th>\n",
       "    </tr>\n",
       "    <tr>\n",
       "      <th></th>\n",
       "      <th></th>\n",
       "      <th>count</th>\n",
       "      <th>sum</th>\n",
       "      <th></th>\n",
       "    </tr>\n",
       "  </thead>\n",
       "  <tbody>\n",
       "    <tr>\n",
       "      <th>4</th>\n",
       "      <td>4</td>\n",
       "      <td>2805</td>\n",
       "      <td>274.0</td>\n",
       "      <td>9.768271</td>\n",
       "    </tr>\n",
       "    <tr>\n",
       "      <th>1</th>\n",
       "      <td>1</td>\n",
       "      <td>4146</td>\n",
       "      <td>388.0</td>\n",
       "      <td>9.358418</td>\n",
       "    </tr>\n",
       "    <tr>\n",
       "      <th>0</th>\n",
       "      <td>0</td>\n",
       "      <td>12310</td>\n",
       "      <td>930.0</td>\n",
       "      <td>7.554833</td>\n",
       "    </tr>\n",
       "    <tr>\n",
       "      <th>3</th>\n",
       "      <td>3</td>\n",
       "      <td>1191</td>\n",
       "      <td>85.0</td>\n",
       "      <td>7.136860</td>\n",
       "    </tr>\n",
       "    <tr>\n",
       "      <th>2</th>\n",
       "      <td>2</td>\n",
       "      <td>955</td>\n",
       "      <td>63.0</td>\n",
       "      <td>6.596859</td>\n",
       "    </tr>\n",
       "  </tbody>\n",
       "</table>\n",
       "</div>"
      ],
      "text/plain": [
       "  family_status_id   debt        debt_part\n",
       "                    count    sum          \n",
       "4                4   2805  274.0  9.768271\n",
       "1                1   4146  388.0  9.358418\n",
       "0                0  12310  930.0  7.554833\n",
       "3                3   1191   85.0  7.136860\n",
       "2                2    955   63.0  6.596859"
      ]
     },
     "metadata": {},
     "output_type": "display_data"
    },
    {
     "data": {
      "text/html": [
       "<div>\n",
       "<style scoped>\n",
       "    .dataframe tbody tr th:only-of-type {\n",
       "        vertical-align: middle;\n",
       "    }\n",
       "\n",
       "    .dataframe tbody tr th {\n",
       "        vertical-align: top;\n",
       "    }\n",
       "\n",
       "    .dataframe thead th {\n",
       "        text-align: right;\n",
       "    }\n",
       "</style>\n",
       "<table border=\"1\" class=\"dataframe\">\n",
       "  <thead>\n",
       "    <tr style=\"text-align: right;\">\n",
       "      <th></th>\n",
       "      <th>family_status_id</th>\n",
       "      <th>family_status</th>\n",
       "    </tr>\n",
       "  </thead>\n",
       "  <tbody>\n",
       "    <tr>\n",
       "      <th>0</th>\n",
       "      <td>0</td>\n",
       "      <td>женат / замужем</td>\n",
       "    </tr>\n",
       "    <tr>\n",
       "      <th>1</th>\n",
       "      <td>1</td>\n",
       "      <td>гражданский брак</td>\n",
       "    </tr>\n",
       "    <tr>\n",
       "      <th>2</th>\n",
       "      <td>2</td>\n",
       "      <td>вдовец / вдова</td>\n",
       "    </tr>\n",
       "    <tr>\n",
       "      <th>3</th>\n",
       "      <td>3</td>\n",
       "      <td>в разводе</td>\n",
       "    </tr>\n",
       "    <tr>\n",
       "      <th>4</th>\n",
       "      <td>4</td>\n",
       "      <td>Не женат / не замужем</td>\n",
       "    </tr>\n",
       "  </tbody>\n",
       "</table>\n",
       "</div>"
      ],
      "text/plain": [
       "   family_status_id          family_status\n",
       "0                 0        женат / замужем\n",
       "1                 1       гражданский брак\n",
       "2                 2         вдовец / вдова\n",
       "3                 3              в разводе\n",
       "4                 4  Не женат / не замужем"
      ]
     },
     "metadata": {},
     "output_type": "display_data"
    }
   ],
   "source": [
    "def get_family_status(fs_id):\n",
    "# Функция принимает на вход идентификатор Семейного положения (int) и возвращает строку с его названием\n",
    "    try:\n",
    "        return family_status_dict[family_status_dict['family_status_id'] == fs_id]['family_status']\n",
    "    except:\n",
    "        return 'статус семейного положения не найден'\n",
    "\n",
    "print('Семейный статус // Всего клиентов / Клиентов с задолженностью / Доля клиентов с задолженностью, %:')\n",
    "data_log_gr_by_fam = data_log.groupby('family_status_id', as_index = False).agg({'debt': ['count', 'sum']})\n",
    "data_log_gr_by_fam['debt_part'] = (data_log_gr_by_fam['debt']['sum'] / data_log_gr_by_fam['debt']['count']) * 100\n",
    "\n",
    "display(data_log_gr_by_fam.sort_values(by='debt_part', ascending = False))\n",
    "display(family_status_dict)"
   ]
  },
  {
   "cell_type": "markdown",
   "metadata": {},
   "source": [
    "#### Вывод"
   ]
  },
  {
   "cell_type": "markdown",
   "metadata": {},
   "source": [
    "Выстроилась последовательность, похожая на жизненный путь человека. Чем ближе клиент к официальному браку и далее, тем меньше вероятность наличия у него задолженности по кредиту. Возможно, эта зависимость связана не с семейным положением, как таковым, а с возрастом человека."
   ]
  },
  {
   "cell_type": "markdown",
   "metadata": {},
   "source": [
    "- Есть ли зависимость между уровнем дохода и возвратом кредита в срок?"
   ]
  },
  {
   "cell_type": "code",
   "execution_count": 71,
   "metadata": {},
   "outputs": [
    {
     "name": "stdout",
     "output_type": "stream",
     "text": [
      "Уровень дохода // Всего клиентов / Клиентов с задолженностью / Доля клиентов с задолженностью, %:\n"
     ]
    },
    {
     "data": {
      "text/html": [
       "<div>\n",
       "<style scoped>\n",
       "    .dataframe tbody tr th:only-of-type {\n",
       "        vertical-align: middle;\n",
       "    }\n",
       "\n",
       "    .dataframe tbody tr th {\n",
       "        vertical-align: top;\n",
       "    }\n",
       "\n",
       "    .dataframe thead th {\n",
       "        text-align: right;\n",
       "    }\n",
       "</style>\n",
       "<table border=\"1\" class=\"dataframe\">\n",
       "  <thead>\n",
       "    <tr style=\"text-align: right;\">\n",
       "      <th></th>\n",
       "      <th>count</th>\n",
       "      <th>debt_count</th>\n",
       "      <th>debt_part</th>\n",
       "    </tr>\n",
       "    <tr>\n",
       "      <th>income_type</th>\n",
       "      <th></th>\n",
       "      <th></th>\n",
       "      <th></th>\n",
       "    </tr>\n",
       "  </thead>\n",
       "  <tbody>\n",
       "    <tr>\n",
       "      <th>средний</th>\n",
       "      <td>18229</td>\n",
       "      <td>1523.0</td>\n",
       "      <td>8.354819</td>\n",
       "    </tr>\n",
       "    <tr>\n",
       "      <th>высокий</th>\n",
       "      <td>2807</td>\n",
       "      <td>194.0</td>\n",
       "      <td>6.911293</td>\n",
       "    </tr>\n",
       "    <tr>\n",
       "      <th>низкий</th>\n",
       "      <td>371</td>\n",
       "      <td>23.0</td>\n",
       "      <td>6.199461</td>\n",
       "    </tr>\n",
       "  </tbody>\n",
       "</table>\n",
       "</div>"
      ],
      "text/plain": [
       "             count  debt_count  debt_part\n",
       "income_type                              \n",
       "средний      18229      1523.0   8.354819\n",
       "высокий       2807       194.0   6.911293\n",
       "низкий         371        23.0   6.199461"
      ]
     },
     "metadata": {},
     "output_type": "display_data"
    }
   ],
   "source": [
    "\"\"\"\n",
    "Функция принимает на вход размер дохода и возвращает его Уровень по следующей логике:\n",
    "    доход не более 50 000 - низкий уровень дохода\n",
    "    доход 50 000 - 250 000 - средний уровень дохода\n",
    "    доход более 250 000 - высокий уровень дохода\n",
    "\"\"\"\n",
    "def income_type(income):\n",
    "    if income <= 50000: return 'низкий'\n",
    "    if 50000 < income <= 250000: return 'средний'\n",
    "    if income > 250000: return 'высокий'    \n",
    "    \n",
    "data_log['income_type'] = data_log['total_income'].apply(income_type)\n",
    "#print(data_log['income_type'].value_counts())\n",
    "\n",
    "print('Уровень дохода // Всего клиентов / Клиентов с задолженностью / Доля клиентов с задолженностью, %:')\n",
    "data_log_gr_by_income = data_log.groupby('income_type').agg(count = ('debt', 'count'), \n",
    "                                                            debt_count = ('debt', 'sum'))\n",
    "data_log_gr_by_income['debt_part'] = (data_log_gr_by_income['debt_count'] / data_log_gr_by_income['count']) * 100\n",
    "\n",
    "display(data_log_gr_by_income.sort_values(by='debt_part', ascending = False))"
   ]
  },
  {
   "cell_type": "markdown",
   "metadata": {},
   "source": [
    "#### Вывод"
   ]
  },
  {
   "cell_type": "markdown",
   "metadata": {},
   "source": [
    "Всё, конечно, зависит от того, где находятся границы между уровнями дохода. Если принять, что доход не более 50000 считается низким, между 50000 и 250000 - средним, и более 250000 - высоким, то получаем, что самый высокий процент задолженности по кредиту надлюдается среди клиентов со средним уровнем дохода. Как видно из таблицы, люди с таким уровнем дохода чаще других обращаются в банк за кредитом."
   ]
  },
  {
   "cell_type": "markdown",
   "metadata": {},
   "source": [
    "- Как разные цели кредита влияют на его возврат в срок?"
   ]
  },
  {
   "cell_type": "code",
   "execution_count": 82,
   "metadata": {},
   "outputs": [
    {
     "name": "stdout",
     "output_type": "stream",
     "text": [
      "Цель кредита // Всего клиентов / Клиентов с задолженностью / Доля клиентов с задолженностью, %:\n"
     ]
    },
    {
     "data": {
      "text/html": [
       "<div>\n",
       "<style scoped>\n",
       "    .dataframe tbody tr th:only-of-type {\n",
       "        vertical-align: middle;\n",
       "    }\n",
       "\n",
       "    .dataframe tbody tr th {\n",
       "        vertical-align: top;\n",
       "    }\n",
       "\n",
       "    .dataframe thead th {\n",
       "        text-align: right;\n",
       "    }\n",
       "</style>\n",
       "<table border=\"1\" class=\"dataframe\">\n",
       "  <thead>\n",
       "    <tr style=\"text-align: right;\">\n",
       "      <th></th>\n",
       "      <th>count</th>\n",
       "      <th>debt_count</th>\n",
       "      <th>debt_part</th>\n",
       "    </tr>\n",
       "    <tr>\n",
       "      <th>purpose_id</th>\n",
       "      <th></th>\n",
       "      <th></th>\n",
       "      <th></th>\n",
       "    </tr>\n",
       "  </thead>\n",
       "  <tbody>\n",
       "    <tr>\n",
       "      <th>4</th>\n",
       "      <td>4295</td>\n",
       "      <td>402.0</td>\n",
       "      <td>9.359721</td>\n",
       "    </tr>\n",
       "    <tr>\n",
       "      <th>3</th>\n",
       "      <td>4003</td>\n",
       "      <td>370.0</td>\n",
       "      <td>9.243068</td>\n",
       "    </tr>\n",
       "    <tr>\n",
       "      <th>2</th>\n",
       "      <td>2322</td>\n",
       "      <td>186.0</td>\n",
       "      <td>8.010336</td>\n",
       "    </tr>\n",
       "    <tr>\n",
       "      <th>0</th>\n",
       "      <td>10181</td>\n",
       "      <td>747.0</td>\n",
       "      <td>7.337197</td>\n",
       "    </tr>\n",
       "    <tr>\n",
       "      <th>1</th>\n",
       "      <td>606</td>\n",
       "      <td>35.0</td>\n",
       "      <td>5.775578</td>\n",
       "    </tr>\n",
       "  </tbody>\n",
       "</table>\n",
       "</div>"
      ],
      "text/plain": [
       "            count  debt_count  debt_part\n",
       "purpose_id                              \n",
       "4            4295       402.0   9.359721\n",
       "3            4003       370.0   9.243068\n",
       "2            2322       186.0   8.010336\n",
       "0           10181       747.0   7.337197\n",
       "1             606        35.0   5.775578"
      ]
     },
     "metadata": {},
     "output_type": "display_data"
    },
    {
     "data": {
      "text/plain": [
       "0    недвижимость\n",
       "1          ремонт\n",
       "2         свадьба\n",
       "3     образование\n",
       "4      автомобиль\n",
       "dtype: object"
      ]
     },
     "metadata": {},
     "output_type": "display_data"
    }
   ],
   "source": [
    "def get_purpose(purpose_id):\n",
    "# Функция принимает на вход идентификатор Цели кредита (int) и возвращает строку с её названием\n",
    "    try:\n",
    "        return purpose_dict[purpose_id]\n",
    "    except:\n",
    "        return 'наименование Цели кредита не найдено'\n",
    "\n",
    "print('Цель кредита // Всего клиентов / Клиентов с задолженностью / Доля клиентов с задолженностью, %:')\n",
    "data_log_gr_by_purp = data_log.groupby('purpose_id').agg(count = ('debt', 'count'), \n",
    "                                                         debt_count = ('debt', 'sum'))\n",
    "data_log_gr_by_purp['debt_part'] = (data_log_gr_by_purp['debt_count'] / data_log_gr_by_purp['count']) * 100\n",
    "\n",
    "#data_log_gr_by_fam['family_status'] = data_log_gr_by_fam['family_status_id'].apply(get_family_status)\n",
    "\n",
    "display(data_log_gr_by_purp.sort_values(by='debt_part', ascending = False))\n",
    "display(purpose_dict)"
   ]
  },
  {
   "cell_type": "markdown",
   "metadata": {},
   "source": [
    "#### Вывод"
   ]
  },
  {
   "cell_type": "markdown",
   "metadata": {},
   "source": [
    "Больше всего должников среди людей, взявших кредит на автомобиль и образование, чуть меньше доля долгов среди сыгравших свадьбу и взявших кредит на недвижимость. Самый \"безопасный\" для банка продукт - кредит на ремонт. \n",
    "Получившаяся последовательность снова напоминает жизненный путь человека :)"
   ]
  },
  {
   "cell_type": "markdown",
   "metadata": {},
   "source": [
    "### [4. Общий вывод](#plan)<a id=\"st4\"></a>  "
   ]
  },
  {
   "cell_type": "code",
   "execution_count": 80,
   "metadata": {},
   "outputs": [
    {
     "name": "stdout",
     "output_type": "stream",
     "text": [
      "Возраст // Всего клиентов / Клиентов с задолженностью / Доля клиентов с задолженностью, %:\n"
     ]
    },
    {
     "data": {
      "text/html": [
       "<div>\n",
       "<style scoped>\n",
       "    .dataframe tbody tr th:only-of-type {\n",
       "        vertical-align: middle;\n",
       "    }\n",
       "\n",
       "    .dataframe tbody tr th {\n",
       "        vertical-align: top;\n",
       "    }\n",
       "\n",
       "    .dataframe thead th {\n",
       "        text-align: right;\n",
       "    }\n",
       "</style>\n",
       "<table border=\"1\" class=\"dataframe\">\n",
       "  <thead>\n",
       "    <tr style=\"text-align: right;\">\n",
       "      <th></th>\n",
       "      <th>count</th>\n",
       "      <th>debt_count</th>\n",
       "      <th>debt_part</th>\n",
       "    </tr>\n",
       "    <tr>\n",
       "      <th>age_group</th>\n",
       "      <th></th>\n",
       "      <th></th>\n",
       "      <th></th>\n",
       "    </tr>\n",
       "  </thead>\n",
       "  <tbody>\n",
       "    <tr>\n",
       "      <th>молодые</th>\n",
       "      <td>3711</td>\n",
       "      <td>403.0</td>\n",
       "      <td>10.859607</td>\n",
       "    </tr>\n",
       "    <tr>\n",
       "      <th>возмужалые</th>\n",
       "      <td>8463</td>\n",
       "      <td>761.0</td>\n",
       "      <td>8.992083</td>\n",
       "    </tr>\n",
       "    <tr>\n",
       "      <th>пожилые</th>\n",
       "      <td>7010</td>\n",
       "      <td>467.0</td>\n",
       "      <td>6.661912</td>\n",
       "    </tr>\n",
       "    <tr>\n",
       "      <th>старые</th>\n",
       "      <td>1769</td>\n",
       "      <td>91.0</td>\n",
       "      <td>5.144149</td>\n",
       "    </tr>\n",
       "    <tr>\n",
       "      <th>не определено</th>\n",
       "      <td>454</td>\n",
       "      <td>18.0</td>\n",
       "      <td>3.964758</td>\n",
       "    </tr>\n",
       "  </tbody>\n",
       "</table>\n",
       "</div>"
      ],
      "text/plain": [
       "               count  debt_count  debt_part\n",
       "age_group                                  \n",
       "молодые         3711       403.0  10.859607\n",
       "возмужалые      8463       761.0   8.992083\n",
       "пожилые         7010       467.0   6.661912\n",
       "старые          1769        91.0   5.144149\n",
       "не определено    454        18.0   3.964758"
      ]
     },
     "metadata": {},
     "output_type": "display_data"
    }
   ],
   "source": [
    "# Проверим гипотезу, что вероятность наличия задолженности по кредиту падает с увеличением возраста клиента:\n",
    "def age_group(years):\n",
    "    if  0 < years <= 18: return 'дети'\n",
    "    if 18 < years <= 30: return 'молодые'\n",
    "    if 30 < years <= 45: return 'возмужалые'\n",
    "    if 45 < years <= 60: return 'пожилые'\n",
    "    if 61 < years <= 75: return 'старые'\n",
    "    if years > 75: return 'долговечные'\n",
    "    return 'не определено'\n",
    "\n",
    "data['age_group'] = data['dob_years'].apply(age_group)\n",
    "print('Возраст // Всего клиентов / Клиентов с задолженностью / Доля клиентов с задолженностью, %:')\n",
    "data_gr_by_age = data.groupby('age_group').agg(count = ('debt','count'), \n",
    "                                               debt_count = ('debt', 'sum'))\n",
    "data_gr_by_age['debt_part'] = (data_gr_by_age['debt_count'] / data_gr_by_age['count']) * 100\n",
    "display(data_gr_by_age.sort_values(by='debt_part', ascending = False))\n",
    "\n",
    "#data.pivot_table(index='family_status',columns='children',values='debt',aggfunc=['mean'])"
   ]
  },
  {
   "cell_type": "markdown",
   "metadata": {},
   "source": [
    "Итак, отвечая на вопрос \"влияет ли семейное положение и количество детей клиента на факт погашения кредита в срок\", можно сказать следующее:\n",
    "\n",
    "1) Вероятность наличия задолженности падает вместе с традиционным изменением семейного положения человека. Холостые/незамужние клиенты имеют больше долгов, чем живущие в гражданском браке. Женатые/замужние ответственнее, но всё же менее надёжны, чем люди в разводе. А меньше всего задолженностей у вдовцов/вдов.\n",
    "\n",
    "2) Наличие детей само по себе влияет на вероятность наличия задолженности по кредиту - она становится выше. При этом количество детей у клиента на факт погашения кредита в срок не влияет.\n",
    "\n",
    "Очевидно, что есть зависимость между возрастом клиента и наличием у него задолженности: чем старше клиент, тем эта вероятность ниже. Возможно, семейное положение и возраст влияют на факт погашения кредита в срок одинаково, т.к. являются сторонами одной медали."
   ]
  },
  {
   "cell_type": "code",
   "execution_count": null,
   "metadata": {},
   "outputs": [],
   "source": []
  }
 ],
 "metadata": {
  "kernelspec": {
   "display_name": "Python 3",
   "language": "python",
   "name": "python3"
  },
  "language_info": {
   "codemirror_mode": {
    "name": "ipython",
    "version": 3
   },
   "file_extension": ".py",
   "mimetype": "text/x-python",
   "name": "python",
   "nbconvert_exporter": "python",
   "pygments_lexer": "ipython3",
   "version": "3.7.6"
  }
 },
 "nbformat": 4,
 "nbformat_minor": 2
}
